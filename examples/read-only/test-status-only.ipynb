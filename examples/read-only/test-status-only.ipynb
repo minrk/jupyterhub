{
 "cells": [
  {
   "cell_type": "code",
   "execution_count": 2,
   "id": "727f30f2-fcf9-4393-b8a1-a4641f187c41",
   "metadata": {},
   "outputs": [
    {
     "data": {
      "text/plain": [
       "{'version': '2.6.0'}"
      ]
     },
     "execution_count": 2,
     "metadata": {},
     "output_type": "execute_result"
    }
   ],
   "source": [
    "import requests\n",
    "\n",
    "token = \"abc123secret\"\n",
    "url = \"http://localhost:8000/user/test-user\"\n",
    "s = requests.Session()\n",
    "s.headers[\"Authorization\"] = f\"Bearer {token}\"\n",
    "\n",
    "s.get(url + \"/api/\").json()"
   ]
  },
  {
   "cell_type": "code",
   "execution_count": 3,
   "id": "7b6290cf-3052-47de-be6c-f52aa9b1513a",
   "metadata": {},
   "outputs": [
    {
     "data": {
      "text/plain": [
       "{'connections': 1,\n",
       " 'kernels': 1,\n",
       " 'last_activity': '2023-08-11T13:52:52.888483Z',\n",
       " 'started': '2023-08-11T13:51:14.780272Z'}"
      ]
     },
     "execution_count": 3,
     "metadata": {},
     "output_type": "execute_result"
    }
   ],
   "source": [
    "s.get(url + \"/api/status\").json()"
   ]
  },
  {
   "cell_type": "code",
   "execution_count": 4,
   "id": "786ad5a0-800c-4df0-85a7-af2144fb83b3",
   "metadata": {},
   "outputs": [
    {
     "data": {
      "text/plain": [
       "{'message': 'User is not authorized to read on resource: contents.',\n",
       " 'reason': None}"
      ]
     },
     "execution_count": 4,
     "metadata": {},
     "output_type": "execute_result"
    }
   ],
   "source": [
    "s.get(url + \"/api/contents\").json()"
   ]
  }
 ],
 "metadata": {
  "kernelspec": {
   "display_name": "Python 3 (ipykernel)",
   "language": "python",
   "name": "python3"
  },
  "language_info": {
   "codemirror_mode": {
    "name": "ipython",
    "version": 3
   },
   "file_extension": ".py",
   "mimetype": "text/x-python",
   "name": "python",
   "nbconvert_exporter": "python",
   "pygments_lexer": "ipython3",
   "version": "3.11.3"
  }
 },
 "nbformat": 4,
 "nbformat_minor": 5
}
